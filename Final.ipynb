{
 "cells": [
  {
   "cell_type": "markdown",
   "metadata": {},
   "source": [
    "### Блок 1"
   ]
  },
  {
   "cell_type": "code",
   "execution_count": null,
   "metadata": {
    "id": "xAH92eO6TTOC"
   },
   "outputs": [],
   "source": [
    "# Логин и токен от учетной записи Яндекс Директ\n",
    "yandex_direct_login = \"логин Яндекс Директ\"\n",
    "yandex_direct_token = \"токен Яндекс Директ\"\n",
    "\n",
    "# Логин и пароль от учетной записи Яндекс Паспорт\n",
    "yandex_passport_login = \"логин Яндекс Паспорт\"\n",
    "yandex_passport_password = \"пароль Яндекс Паспорт\"\n",
    "\n",
    "# Логин и пароль от учетной записи Яндекс Паспорт\n",
    "steam_login = \"логин Steam\"\n",
    "steam_password = \"пароль Steam\"\n",
    "\n",
    "# Цифровой продукт №1 - ACC\n",
    "app1_appid = 805550\n",
    "app1_keywords = [\"Assetto Corsa Competizione\"]\n",
    "\n",
    "# Цифровой продукт №2 - AC\n",
    "app2_appid = 244210\n",
    "app2_keywords = [\"Assetto Corsa\"]\n",
    "\n",
    "# Цифровой продукт №3 - iRacing\n",
    "app3_appid = 266410\n",
    "app3_keywords = [\"iRacing\"]"
   ]
  },
  {
   "cell_type": "markdown",
   "metadata": {},
   "source": [
    "### Блок 2"
   ]
  },
  {
   "cell_type": "code",
   "execution_count": null,
   "metadata": {},
   "outputs": [],
   "source": [
    "from GoogleTrendsFetcher import GoogleTrendsFetcher\n",
    "google_trends_fetcher = GoogleTrendsFetcher()\n",
    "google_trends_fetcher.BuildPayload(app1_keywords + app2_keywords + app3_keywords)\n",
    "google_trends_result = google_trends_fetcher.FetchInterestOverTime()"
   ]
  },
  {
   "cell_type": "code",
   "execution_count": null,
   "metadata": {},
   "outputs": [],
   "source": [
    "from YandexWordstatScraper import YandexWordstatScraper\n",
    "yandex_wordstat_scraper = YandexWordstatScraper(yandex_passport_login, yandex_passport_password)\n",
    "yandex_wordstat_scraper.DoAuth()\n",
    "yandex_wordstat_app1_result = yandex_wordstat_scraper.FetchInterestOverTime(app1_keywords)\n",
    "yandex_wordstat_app2_result = yandex_wordstat_scraper.FetchInterestOverTime(app2_keywords)\n",
    "yandex_wordstat_app3_result = yandex_wordstat_scraper.FetchInterestOverTime(app3_keywords)\n",
    "yandex_wordstat_scraper.DoClose()\n"
   ]
  },
  {
   "cell_type": "code",
   "execution_count": null,
   "metadata": {},
   "outputs": [],
   "source": [
    "from SteamDBScraper import SteamDBScraper\n",
    "steam_db_scraper = SteamDBScraper()\n",
    "steam_db_scraper.DoAuth(steam_login, steam_password)\n",
    "steam_db_app1_result = steam_db_scraper.FetchInterestOverTime(app1_appid)\n",
    "steam_db_app2_result = steam_db_scraper.FetchInterestOverTime(app2_appid)\n",
    "steam_db_app3_result = steam_db_scraper.FetchInterestOverTime(app3_appid)\n",
    "steam_db_scraper.DoClose()"
   ]
  },
  {
   "cell_type": "markdown",
   "metadata": {},
   "source": [
    "\n",
    "\n",
    "\n",
    "\n",
    "### Блок 3"
   ]
  },
  {
   "cell_type": "code",
   "execution_count": null,
   "metadata": {},
   "outputs": [],
   "source": [
    "import PlotDrawer\n",
    "PlotDrawer.PlotGoogleResult(google_trends_result)\n",
    "PlotDrawer.PlotYandexResult(yandex_wordstat_app1_result, yandex_wordstat_app2_result, yandex_wordstat_app3_result, (app1_keywords[0], app2_keywords[0], app3_keywords[0]))\n",
    "PlotDrawer.PlotSteamResult(steam_db_app1_result, steam_db_app2_result, steam_db_app3_result, (app1_keywords[0], app2_keywords[0], app3_keywords[0]))"
   ]
  },
  {
   "cell_type": "code",
   "execution_count": null,
   "metadata": {},
   "outputs": [],
   "source": [
    "import importlib\n",
    "importlib.reload(PlotDrawer)\n",
    "\n",
    "PlotDrawer.PlotAppPop(*PlotDrawer.PrepareResults(google_trends_result, yandex_wordstat_app1_result, steam_db_app1_result, app1_keywords[0]))\n",
    "PlotDrawer.PlotAppPop(*PlotDrawer.PrepareResults(google_trends_result, yandex_wordstat_app2_result, steam_db_app2_result, app2_keywords[0]))\n",
    "PlotDrawer.PlotAppPop(*PlotDrawer.PrepareResults(google_trends_result, yandex_wordstat_app3_result, steam_db_app3_result, app3_keywords[0]))"
   ]
  },
  {
   "cell_type": "markdown",
   "metadata": {},
   "source": [
    "### Блок 4"
   ]
  },
  {
   "cell_type": "code",
   "execution_count": null,
   "metadata": {},
   "outputs": [],
   "source": [
    "google_trends_result.to_csv('./Downloads/google_trends_result.csv')\n",
    "\n",
    "yandex_wordstat_app1_result.to_csv('./Downloads/yandex_wordstat_app1_result.csv')\n",
    "yandex_wordstat_app2_result.to_csv('./Downloads/yandex_wordstat_app2_result.csv')\n",
    "yandex_wordstat_app3_result.to_csv('./Downloads/yandex_wordstat_app3_result.csv')\n",
    "\n",
    "steam_db_app1_result.to_csv('./Downloads/steam_db_app1_result.csv')\n",
    "steam_db_app2_result.to_csv('./Downloads/steam_db_app2_result.csv')\n",
    "steam_db_app3_result.to_csv('./Downloads/steam_db_app3_result.csv')"
   ]
  }
 ],
 "metadata": {
  "colab": {
   "provenance": []
  },
  "kernelspec": {
   "display_name": "Python 3 (ipykernel)",
   "language": "python",
   "name": "python3"
  },
  "language_info": {
   "codemirror_mode": {
    "name": "ipython",
    "version": 3
   },
   "file_extension": ".py",
   "mimetype": "text/x-python",
   "name": "python",
   "nbconvert_exporter": "python",
   "pygments_lexer": "ipython3",
   "version": "3.7.9"
  }
 },
 "nbformat": 4,
 "nbformat_minor": 1
}
